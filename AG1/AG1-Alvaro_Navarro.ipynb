{
 "cells": [
  {
   "cell_type": "markdown",
   "metadata": {},
   "source": [
    "AG1-Actividad Guiada 1\n",
    "\n",
    "Álvaro Navarro Guzmán\n",
    "\n",
    "https://github.com/alvaronavarroguz/03MAIR---Algoritmos-de-Optimizacion---2019/tree/master/AG1"
   ]
  },
  {
   "cell_type": "markdown",
   "metadata": {},
   "source": [
    "### QUICK SORT"
   ]
  },
  {
   "cell_type": "code",
   "execution_count": 1,
   "metadata": {},
   "outputs": [],
   "source": [
    "A = [9187, 244, 4054, 9222, 8373, 4993, 5265, 5470, 4519, 7182, 2035, 3506, 4337, 7580, 2554, 2824, 8357, 4447, 7379]\n",
    "\n",
    "def quick_sort(A):\n",
    "    if len(A) == 1:\n",
    "        return A\n",
    "    if len(A) == 2:\n",
    "        return [min(A), max(A)]\n",
    "    \n",
    "    IZDA=[]\n",
    "    DCHA=[]\n",
    "    \n",
    "    pivote=(A[0]+A[1]+A[2])/3\n",
    "    for i in A:\n",
    "        if i<pivote:\n",
    "            IZDA.append(i)\n",
    "        else:\n",
    "            DCHA.append(i)\n",
    "            \n",
    "    return quick_sort(IZDA) + quick_sort(DCHA)        "
   ]
  },
  {
   "cell_type": "code",
   "execution_count": 5,
   "metadata": {},
   "outputs": [],
   "source": [
    "#Decorador para calcular_tiempo a la función para la cual queremos calcular el tiempo de ejecución(Isabel Vázquez)\n",
    "\n",
    "from time import time\n",
    "#Función para calcular el tiempo de ejecución\n",
    "def calcular_tiempo(f):\n",
    "   \n",
    "    def wrapper(*args, **kwargs):        \n",
    "        inicio = time()       \n",
    "        resultado = f(*args, **kwargs)       \n",
    "        tiempo = float(time() - inicio)\n",
    "        print(\"\\r\\n Tiempo de ejecución para algoritmo: \"+\"{0:.25f}\".format(tiempo))\n",
    "        return resultado\n",
    "    \n",
    "    return wrapper"
   ]
  },
  {
   "cell_type": "code",
   "execution_count": 6,
   "metadata": {},
   "outputs": [],
   "source": [
    "@calcular_tiempo\n",
    "def QS(A):\n",
    "    return quick_sort(A)"
   ]
  },
  {
   "cell_type": "code",
   "execution_count": 7,
   "metadata": {},
   "outputs": [
    {
     "name": "stdout",
     "output_type": "stream",
     "text": [
      "\r\n",
      " Tiempo de ejecución para algoritmo: 0.0000000000000000000000000\n"
     ]
    },
    {
     "data": {
      "text/plain": [
       "[244,\n",
       " 2035,\n",
       " 2554,\n",
       " 2824,\n",
       " 3506,\n",
       " 4054,\n",
       " 4337,\n",
       " 4447,\n",
       " 4519,\n",
       " 4993,\n",
       " 5265,\n",
       " 5470,\n",
       " 7182,\n",
       " 7379,\n",
       " 7580,\n",
       " 8357,\n",
       " 8373,\n",
       " 9187,\n",
       " 9222]"
      ]
     },
     "execution_count": 7,
     "metadata": {},
     "output_type": "execute_result"
    }
   ],
   "source": [
    "QS(A)"
   ]
  },
  {
   "cell_type": "markdown",
   "metadata": {},
   "source": [
    "### ALGORITMO VORAZ"
   ]
  },
  {
   "cell_type": "code",
   "execution_count": 8,
   "metadata": {},
   "outputs": [],
   "source": [
    "SISTEMA=[25,10,5,1]\n",
    "\n",
    "@calcular_tiempo\n",
    "def cambio_monedas(C, SISTEMA):\n",
    "    \n",
    "    SOLUCION=[]\n",
    "    VALOR_ACUMULADO=0\n",
    "    \n",
    "    for i in SISTEMA:\n",
    "        monedas=(C-VALOR_ACUMULADO)//i\n",
    "        SOLUCION.append(monedas)\n",
    "        VALOR_ACUMULADO+=monedas*i\n",
    "                    \n",
    "    if C== VALOR_ACUMULADO:\n",
    "        return SOLUCION\n",
    "            "
   ]
  },
  {
   "cell_type": "code",
   "execution_count": 9,
   "metadata": {},
   "outputs": [
    {
     "name": "stdout",
     "output_type": "stream",
     "text": [
      "\r\n",
      " Tiempo de ejecución para algoritmo: 0.0000000000000000000000000\n"
     ]
    },
    {
     "data": {
      "text/plain": [
       "[4, 0, 0, 1]"
      ]
     },
     "execution_count": 9,
     "metadata": {},
     "output_type": "execute_result"
    }
   ],
   "source": [
    "cambio_monedas(101, SISTEMA)"
   ]
  },
  {
   "cell_type": "markdown",
   "metadata": {},
   "source": [
    "### TÉCNICA VUELTA ATRÁS"
   ]
  },
  {
   "cell_type": "code",
   "execution_count": 57,
   "metadata": {},
   "outputs": [],
   "source": [
    "\n",
    "def es_prometedora(SOLUCION, etapa):\n",
    "   \n",
    "    for i in range(etapa+1):\n",
    "        if SOLUCION.count(SOLUCION[i])>1:\n",
    "            return False\n",
    "    \n",
    "        for j in range(i+1, etapa+1):\n",
    "            if abs(i-j)== abs(SOLUCION[i]-SOLUCION[j]):\n",
    "                return False\n",
    "    \n",
    "    return True\n",
    "\n",
    "def escribe(S):\n",
    "    print(S)\n",
    "    n =len(S)\n",
    "    for x in range(n):\n",
    "        print(\"\")\n",
    "        for i in range(n):\n",
    "            if S[i] ==x+1:\n",
    "                print(\" X \", end=\"\")\n",
    "            else:\n",
    "                print(\" - \", end=\"\")\n",
    "                \n",
    "\n",
    "def reinas(N,solucion , etapa):\n",
    "\n",
    "    for i in range (1,N+1):\n",
    "        \n",
    "        solucion[etapa]=i\n",
    "        \n",
    "        if es_prometedora(solucion, etapa):\n",
    "            \n",
    "            if etapa == N-1:\n",
    "                print(\"\\n\\nLa solucion es:\")\n",
    "                print(solucion)\n",
    "                escribe(solucion)\n",
    "            else: \n",
    "\n",
    "\n",
    "                reinas(N, solucion, etapa+1)\n",
    "        else:\n",
    "            None\n",
    "        \n",
    "        solucion[etapa]=0"
   ]
  },
  {
   "cell_type": "code",
   "execution_count": 59,
   "metadata": {},
   "outputs": [
    {
     "name": "stdout",
     "output_type": "stream",
     "text": [
      "\n",
      "\n",
      "La solucion es:\n",
      "[2, 4, 1, 3]\n",
      "[2, 4, 1, 3]\n",
      "\n",
      " -  -  X  - \n",
      " X  -  -  - \n",
      " -  -  -  X \n",
      " -  X  -  - \n",
      "\n",
      "La solucion es:\n",
      "[3, 1, 4, 2]\n",
      "[3, 1, 4, 2]\n",
      "\n",
      " -  X  -  - \n",
      " -  -  -  X \n",
      " X  -  -  - \n",
      " -  -  X  - "
     ]
    }
   ],
   "source": [
    "N=4\n",
    "solucion=[0 for i in range(N)]\n",
    "etapa=0\n",
    "\n",
    "reinas(N, solucion, etapa)"
   ]
  },
  {
   "cell_type": "code",
   "execution_count": null,
   "metadata": {},
   "outputs": [],
   "source": []
  }
 ],
 "metadata": {
  "kernelspec": {
   "display_name": "Python 3",
   "language": "python",
   "name": "python3"
  },
  "language_info": {
   "codemirror_mode": {
    "name": "ipython",
    "version": 3
   },
   "file_extension": ".py",
   "mimetype": "text/x-python",
   "name": "python",
   "nbconvert_exporter": "python",
   "pygments_lexer": "ipython3",
   "version": "3.6.7"
  }
 },
 "nbformat": 4,
 "nbformat_minor": 2
}
